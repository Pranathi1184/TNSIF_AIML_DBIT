{
 "cells": [
  {
   "cell_type": "code",
   "execution_count": 3,
   "id": "e9137f32-a33a-4fab-8c99-b9b1eb6d58e1",
   "metadata": {},
   "outputs": [
    {
     "name": "stdin",
     "output_type": "stream",
     "text": [
      "Enter a number:  100\n",
      "Enter a number:  100\n",
      "Enter a number:  101\n"
     ]
    },
    {
     "name": "stdout",
     "output_type": "stream",
     "text": [
      "Sum reached 301. Exiting...\n"
     ]
    }
   ],
   "source": [
    "total = 0\n",
    "\n",
    "while True:\n",
    "    num = int(input(\"Enter a number: \"))\n",
    "    total += num\n",
    "    if total >= 300:\n",
    "        print(f\"Sum reached {total}. Exiting...\")\n",
    "        break\n"
   ]
  },
  {
   "cell_type": "code",
   "execution_count": 5,
   "id": "e4d2afc7-a578-428b-a8eb-825e7df5de99",
   "metadata": {},
   "outputs": [
    {
     "name": "stdin",
     "output_type": "stream",
     "text": [
      "Enter a number:  301\n"
     ]
    },
    {
     "name": "stdout",
     "output_type": "stream",
     "text": [
      "Input too high! Adding 301 would make the total 301, which exceeds 300.\n"
     ]
    },
    {
     "name": "stdin",
     "output_type": "stream",
     "text": [
      "Enter a number:  300\n"
     ]
    },
    {
     "name": "stdout",
     "output_type": "stream",
     "text": [
      "Total is exactly 300. Exiting...\n"
     ]
    }
   ],
   "source": [
    "total = 0\n",
    "\n",
    "while True:\n",
    "    num = int(input(\"Enter a number: \"))\n",
    "    if total + num > 300:\n",
    "        print(f\"Input too high! Adding {num} would make the total {total + num}, which exceeds 300.\")\n",
    "        continue\n",
    "    total += num\n",
    "    if total == 300:\n",
    "        print(f\"Total is exactly 300. Exiting...\")\n",
    "        break"
   ]
  },
  {
   "cell_type": "code",
   "execution_count": null,
   "id": "d5980bd1-6cfb-47d3-97b5-233e79d98993",
   "metadata": {},
   "outputs": [],
   "source": [
    "name = input(\"Enter a name: \")\n",
    "vowels = 'aeiouAEIOU'\n",
    "consonants = ''\n",
    "\n",
    "# Loop through each character in the name\n",
    "for char in name:\n",
    "    if char.isalpha() and char not in vowels:\n",
    "        consonants += char\n",
    "\n",
    "print(\"Consonants in your name:\", consonants)\n"
   ]
  },
  {
   "cell_type": "code",
   "execution_count": 7,
   "id": "9bd5f9d4-e82c-418c-a1b8-8950b90749e3",
   "metadata": {},
   "outputs": [
    {
     "name": "stdin",
     "output_type": "stream",
     "text": [
      "enter name: PRANATHI\n"
     ]
    },
    {
     "name": "stdout",
     "output_type": "stream",
     "text": [
      "P\n",
      "R\n",
      "A\n",
      "N\n",
      "A\n",
      "T\n",
      "H\n",
      "I\n"
     ]
    }
   ],
   "source": [
    "n= input(\"enter name:\")\n",
    "for i in n:\n",
    "    if i=='a' or i=='e' or i=='i' or i=='o' or i=='u':\n",
    "        continue\n",
    "    else:\n",
    "        print(i)"
   ]
  },
  {
   "cell_type": "code",
   "execution_count": 13,
   "id": "8f832275-91c4-4b7b-8dd8-ee9ac43f34f2",
   "metadata": {},
   "outputs": [
    {
     "name": "stdin",
     "output_type": "stream",
     "text": [
      "Enter a string:  BOn\n",
      "Enter a string:  Bon\n"
     ]
    },
    {
     "name": "stdout",
     "output_type": "stream",
     "text": [
      "Voyage\n"
     ]
    }
   ],
   "source": [
    "user_input = \"\"\n",
    "\n",
    "while user_input != \"Bon\":\n",
    "    user_input = input(\"Enter a string: \")\n",
    "    if user_input == \"Bon\":\n",
    "        print(\"Voyage\")\n",
    "        break"
   ]
  },
  {
   "cell_type": "code",
   "execution_count": 15,
   "id": "879840f1-8840-4fa9-9fe2-9bebf59715f0",
   "metadata": {},
   "outputs": [
    {
     "name": "stdin",
     "output_type": "stream",
     "text": [
      "Enter your address:  #123/A 56th street\n"
     ]
    },
    {
     "name": "stdout",
     "output_type": "stream",
     "text": [
      "Numbers in the address: 12356\n"
     ]
    }
   ],
   "source": [
    "address = input(\"Enter your address: \")\n",
    "numbers = \"\"\n",
    "\n",
    "for i in range(len(address)):\n",
    "    if address[i] >= '0' and address[i] <= '9':\n",
    "        numbers = numbers + address[i]\n",
    "    else:\n",
    "        continue\n",
    "        \n",
    "print(\"Numbers in the address:\", numbers)"
   ]
  },
  {
   "cell_type": "code",
   "execution_count": 18,
   "id": "c5791afd-d703-4632-a6cd-09c7f6964e32",
   "metadata": {},
   "outputs": [
    {
     "name": "stdin",
     "output_type": "stream",
     "text": [
      "Enter your address:  123/A\n"
     ]
    },
    {
     "name": "stdout",
     "output_type": "stream",
     "text": [
      "1\n",
      "2\n",
      "3\n"
     ]
    }
   ],
   "source": [
    "address = input(\"Enter your address: \")\n",
    "\n",
    "for char in address:\n",
    "    if char >= '0' and char <= '9':\n",
    "        print(char)\n",
    "    else:\n",
    "        continue"
   ]
  },
  {
   "cell_type": "code",
   "execution_count": 25,
   "id": "8c10e409-2964-4345-85f6-3e006baee0f5",
   "metadata": {},
   "outputs": [
    {
     "name": "stdin",
     "output_type": "stream",
     "text": [
      "Enter element:  12\n",
      "Enter element:  25\n",
      "Enter element:  65\n",
      "Enter element:  48\n",
      "Enter element:  78\n",
      "Enter your name:  pranathi\n"
     ]
    },
    {
     "name": "stdout",
     "output_type": "stream",
     "text": [
      "['12', '25', 'pranathi', '48', 'pranathi']\n"
     ]
    }
   ],
   "source": [
    "elements = []\n",
    "for i in range(5):\n",
    "    item = input(\"Enter element: \")\n",
    "    elements.append(item)\n",
    "name = input(\"Enter your name: \")\n",
    "elements[2] = name\n",
    "elements[4] = name\n",
    "print(elements)"
   ]
  },
  {
   "cell_type": "code",
   "execution_count": null,
   "id": "e82c414f-4f2a-491b-b3eb-d138ca002212",
   "metadata": {},
   "outputs": [],
   "source": [
    "else:\n",
    "    elements.append(element1)\n",
    "    print(f\" Index out of range. Appended '{element1}' at the end.\")"
   ]
  },
  {
   "cell_type": "code",
   "execution_count": 29,
   "id": "55164138-d0a4-47dc-a900-45dcc799b4de",
   "metadata": {},
   "outputs": [
    {
     "name": "stdin",
     "output_type": "stream",
     "text": [
      "Enter element:  12\n",
      "Enter element:  12\n",
      "Enter element:  12\n",
      "Enter element:  12\n",
      "Enter element:  12\n",
      "Enter the index value where the element should be inserted: 1\n",
      "Enter the element: 25\n"
     ]
    },
    {
     "name": "stdout",
     "output_type": "stream",
     "text": [
      "Inserted '25' at index 1.\n",
      "Updated list: ['12', '25', '12', '12', '12', '12']\n"
     ]
    }
   ],
   "source": [
    "##Write a program that accepts a list from the user and two other inputs: The index where a new element has to be inserted and the element itself. The program should check if the index value given by the user is valid. If it is not, then a message should state that the new element will be appended\n",
    "elements=[]\n",
    "for i in range(5):\n",
    "    item = input(\"Enter element: \")\n",
    "    elements.append(item)\n",
    "index=int(input(\"Enter the index value where the element should be inserted:\"))\n",
    "element1= input(\"Enter the element:\")\n",
    "\n",
    "if 0 <= index <= len(elements):\n",
    "    elements.insert(index, element1)\n",
    "    print(f\"Inserted '{element1}' at index {index}.\")\n",
    "\n",
    "print(\"Updated list:\", elements)"
   ]
  },
  {
   "cell_type": "code",
   "execution_count": null,
   "id": "0b50a820-8fea-4a27-aab8-c5ef63671a5e",
   "metadata": {},
   "outputs": [],
   "source": []
  }
 ],
 "metadata": {
  "kernelspec": {
   "display_name": "anaconda-2024.02-py310",
   "language": "python",
   "name": "conda-env-anaconda-2024.02-py310-py"
  },
  "language_info": {
   "codemirror_mode": {
    "name": "ipython",
    "version": 3
   },
   "file_extension": ".py",
   "mimetype": "text/x-python",
   "name": "python",
   "nbconvert_exporter": "python",
   "pygments_lexer": "ipython3",
   "version": "3.10.14"
  }
 },
 "nbformat": 4,
 "nbformat_minor": 5
}
