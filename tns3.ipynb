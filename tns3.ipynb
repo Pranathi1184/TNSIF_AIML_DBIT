{
 "cells": [
  {
   "cell_type": "code",
   "execution_count": 9,
   "id": "a1bc2955-e2c4-48af-9730-ae218e4fe967",
   "metadata": {},
   "outputs": [
    {
     "name": "stdout",
     "output_type": "stream",
     "text": [
      "Enter 10 numbers:\n"
     ]
    },
    {
     "name": "stdin",
     "output_type": "stream",
     "text": [
      "Element:  10\n",
      "Element:  9\n",
      "Element:  8\n",
      "Element:  7\n",
      "Element:  6\n",
      "Element:  5\n",
      "Element:  4\n",
      "Element:  3\n",
      "Element:  2\n",
      "Element:  1\n"
     ]
    },
    {
     "name": "stdout",
     "output_type": "stream",
     "text": [
      "[10, 9, 8, 7, 6, 5, 4, 3, 2, 1]\n",
      "[10, 9, 7, 6, 5, 4, 3, 2, 1]\n"
     ]
    },
    {
     "ename": "IndexError",
     "evalue": "pop index out of range",
     "output_type": "error",
     "traceback": [
      "\u001b[0;31m---------------------------------------------------------------------------\u001b[0m",
      "\u001b[0;31mIndexError\u001b[0m                                Traceback (most recent call last)",
      "Cell \u001b[0;32mIn[9], line 22\u001b[0m\n\u001b[1;32m     19\u001b[0m \u001b[38;5;28;01mfor\u001b[39;00m i \u001b[38;5;129;01min\u001b[39;00m \u001b[38;5;28mrange\u001b[39m(length):\n\u001b[1;32m     20\u001b[0m     \u001b[38;5;28;01mif\u001b[39;00m i \u001b[38;5;241m%\u001b[39m \u001b[38;5;241m2\u001b[39m \u001b[38;5;241m==\u001b[39m \u001b[38;5;241m0\u001b[39m:\n\u001b[0;32m---> 22\u001b[0m         \u001b[43mnumbers\u001b[49m\u001b[38;5;241;43m.\u001b[39;49m\u001b[43mpop\u001b[49m\u001b[43m(\u001b[49m\u001b[43mi\u001b[49m\u001b[38;5;241;43m-\u001b[39;49m\u001b[38;5;241;43m1\u001b[39;49m\u001b[43m)\u001b[49m\n\u001b[1;32m     24\u001b[0m \u001b[38;5;28mprint\u001b[39m(numbers)\n",
      "\u001b[0;31mIndexError\u001b[0m: pop index out of range"
     ]
    }
   ],
   "source": [
    "numbers = []\n",
    "print(\"Enter 10 numbers:\")\n",
    "for i in range(10):\n",
    "    num = int(input(\"Element: \"))\n",
    "    numbers.append(num)\n",
    "print(numbers)\n",
    "    \n",
    "numbers.pop(2)\n",
    "print(numbers)\n",
    "\n",
    "length=len(numbers)\n",
    "\n",
    "#for num in numbers:\n",
    "    #if num % 2 != 0:\n",
    "        #numbers.remove(num)\n",
    "\n",
    "length=len(numbers)\n",
    "\n",
    "for i in range(length):\n",
    "    if i % 2 == 0:\n",
    "        numbers.pop(i-1)\n",
    "        \n",
    "print(numbers)"
   ]
  },
  {
   "cell_type": "code",
   "execution_count": 10,
   "id": "17200956-c204-4625-85a3-04cb35a76026",
   "metadata": {},
   "outputs": [
    {
     "name": "stdout",
     "output_type": "stream",
     "text": [
      "[2, 3]\n"
     ]
    },
    {
     "ename": "IndexError",
     "evalue": "list index out of range",
     "output_type": "error",
     "traceback": [
      "\u001b[0;31m---------------------------------------------------------------------------\u001b[0m",
      "\u001b[0;31mIndexError\u001b[0m                                Traceback (most recent call last)",
      "Cell \u001b[0;32mIn[10], line 3\u001b[0m\n\u001b[1;32m      1\u001b[0m a\u001b[38;5;241m=\u001b[39m[\u001b[38;5;241m2\u001b[39m,\u001b[38;5;241m3\u001b[39m,[\u001b[38;5;241m2\u001b[39m,\u001b[38;5;241m3\u001b[39m]]\n\u001b[1;32m      2\u001b[0m \u001b[38;5;28mprint\u001b[39m(a[\u001b[38;5;241m2\u001b[39m])\n\u001b[0;32m----> 3\u001b[0m \u001b[38;5;28mprint\u001b[39m(\u001b[43ma\u001b[49m\u001b[43m[\u001b[49m\u001b[38;5;241;43m3\u001b[39;49m\u001b[43m]\u001b[49m)\n",
      "\u001b[0;31mIndexError\u001b[0m: list index out of range"
     ]
    }
   ],
   "source": [
    "a=[2,3,[2,3]]\n",
    "print(a[2])\n",
    "print(a[3])"
   ]
  },
  {
   "cell_type": "code",
   "execution_count": 13,
   "id": "151c8748-0b71-49d3-bae0-498571964042",
   "metadata": {},
   "outputs": [
    {
     "name": "stdin",
     "output_type": "stream",
     "text": [
      "Enter a list  1,2,3,4,5\n",
      "Enter a list 1,2,3\n"
     ]
    },
    {
     "name": "stdout",
     "output_type": "stream",
     "text": [
      "yes\n",
      "yes\n",
      "yes\n"
     ]
    }
   ],
   "source": [
    "\n",
    "L1 = eval(input('Enter a list '))\n",
    "L2 = eval(input('Enter a list'))\n",
    "len1 = len(L1)\n",
    "len2 = len(L2)\n",
    "for i in range(len1):\n",
    "    for j in range(len2):\n",
    "        if L1[i] == L2[j]:\n",
    "            print (\"yes\")\n",
    "            break\n",
    "#L1 = [1,2,3,4,5], L2 = [1,2,3] and L1 = [1,2,3], L2 = [4,5,6]"
   ]
  },
  {
   "cell_type": "code",
   "execution_count": 18,
   "id": "a99fa074-6227-4fd0-8829-675e2be06d86",
   "metadata": {},
   "outputs": [
    {
     "name": "stdout",
     "output_type": "stream",
     "text": [
      "['p', 'd', 'a', 'f', 'a', 'n']\n",
      "['n', 'a', 'f', 'a', 'd', 'p']\n",
      "['n', 'f', 'a', 'd', 'p']\n"
     ]
    }
   ],
   "source": [
    "k = ['a', 'p', 'd', 'a', 'f','a','n']\n",
    "k.remove('a')\n",
    "print(k)\n",
    "k.reverse()\n",
    "print(k)\n",
    "k.remove( 'a')\n",
    "print(k)"
   ]
  },
  {
   "cell_type": "code",
   "execution_count": 29,
   "id": "20c2672f-f0a7-4e70-b1ed-9410d1c51a69",
   "metadata": {},
   "outputs": [
    {
     "name": "stdout",
     "output_type": "stream",
     "text": [
      "1\n",
      "b\n",
      "2\n",
      "cc\n",
      "3\n",
      "ddd\n",
      "4\n",
      "eeee\n",
      "['a', 'b', 'c', 'd', 'e']\n",
      "[0, 0, 0, 0, 0, 'b', 'cc', 'ddd', 'eeee']\n"
     ]
    }
   ],
   "source": [
    "\n",
    "#to create ['a','bb','ccc' ,'dddd' ,'eeeee' ] from ['a' , 'b' ,'c', 'd', 'e' ]\n",
    "li = [0,0,0,0,0]\n",
    "t = ['a', 'b', 'c', 'd', 'e' ]\n",
    "for i in range(1,5):\n",
    "    print(i)\n",
    "    e = t[i]*i\n",
    "    print(e)\n",
    "    li = li + [e]\n",
    "print(t)\n",
    "print(li)"
   ]
  },
  {
   "cell_type": "code",
   "execution_count": 32,
   "id": "f9a42f9f-a739-40f0-a6a7-ea2552e6c45b",
   "metadata": {},
   "outputs": [
    {
     "name": "stdout",
     "output_type": "stream",
     "text": [
      "<built-in method reverse of list object at 0x7e1bf9726800>\n"
     ]
    }
   ],
   "source": [
    "#To print a list in reverse\n",
    "L = [1, 2, 3, 4, 5]\n",
    "a=L.reverse\n",
    "print (a)"
   ]
  },
  {
   "cell_type": "code",
   "execution_count": null,
   "id": "1f1ae538-d956-47c9-9e1f-5c72f1f40d92",
   "metadata": {},
   "outputs": [],
   "source": []
  }
 ],
 "metadata": {
  "kernelspec": {
   "display_name": "anaconda-2024.02-py310",
   "language": "python",
   "name": "conda-env-anaconda-2024.02-py310-py"
  },
  "language_info": {
   "codemirror_mode": {
    "name": "ipython",
    "version": 3
   },
   "file_extension": ".py",
   "mimetype": "text/x-python",
   "name": "python",
   "nbconvert_exporter": "python",
   "pygments_lexer": "ipython3",
   "version": "3.10.14"
  }
 },
 "nbformat": 4,
 "nbformat_minor": 5
}
