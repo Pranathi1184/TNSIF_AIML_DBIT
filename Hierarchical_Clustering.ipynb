{
 "cells": [
  {
   "cell_type": "code",
   "execution_count": 10,
   "id": "a6e14c99",
   "metadata": {},
   "outputs": [
    {
     "name": "stdout",
     "output_type": "stream",
     "text": [
      "   CustomerID  Annual Income  Spending Score\n",
      "0           1             15              39\n",
      "1           2             16              81\n",
      "2           3             17               6\n",
      "3           4             18              77\n",
      "4           5             19              40\n",
      "5           6             20              76\n",
      "6           7             21               6\n",
      "7           8             22              94\n",
      "8           9             23               3\n",
      "9          10             24              72\n"
     ]
    }
   ],
   "source": [
    "import pandas as pd\n",
    "import numpy as np\n",
    "df = pd.DataFrame({'CustomerID':[1,2,3,4,5,6,7,8,9,10],\n",
    "    'Annual Income':[15,16,17,18,19,20,21,22,23,24],\n",
    "    'Spending Score':[39,81,6,77,40,76,6,94,3,72]})\n",
    "print(df)"
   ]
  },
  {
   "cell_type": "code",
   "execution_count": 11,
   "id": "deb455a4",
   "metadata": {},
   "outputs": [
    {
     "name": "stdout",
     "output_type": "stream",
     "text": [
      "<class 'pandas.core.frame.DataFrame'>\n",
      "RangeIndex: 10 entries, 0 to 9\n",
      "Data columns (total 3 columns):\n",
      " #   Column          Non-Null Count  Dtype\n",
      "---  ------          --------------  -----\n",
      " 0   CustomerID      10 non-null     int64\n",
      " 1   Annual Income   10 non-null     int64\n",
      " 2   Spending Score  10 non-null     int64\n",
      "dtypes: int64(3)\n",
      "memory usage: 372.0 bytes\n"
     ]
    }
   ],
   "source": [
    "df.info()"
   ]
  },
  {
   "cell_type": "code",
   "execution_count": 12,
   "id": "47d1d3c0",
   "metadata": {},
   "outputs": [
    {
     "data": {
      "image/png": "[encoded data removed]",
      "text/plain": [
       "<Figure size 640x480 with 1 Axes>"
      ]
     },
     "metadata": {},
     "output_type": "display_data"
    }
   ],
   "source": [
    "#Generate a dendrogram using scipy and matplotlib\n",
    "import scipy.cluster.hierarchy as sch\n",
    "import matplotlib.pyplot as plt\n",
    "dendrogram = sch.dendrogram(sch.linkage(df[['Annual Income','Spending Score']], method='ward'))\n",
    "plt.title('Dendrogram')\n",
    "plt.xlabel('Customers')\n",
    "plt.ylabel('Euclidean distances')\n",
    "plt.show()"
   ]
  },
  {
   "cell_type": "code",
   "execution_count": 13,
   "id": "af64482d",
   "metadata": {},
   "outputs": [
    {
     "name": "stdout",
     "output_type": "stream",
     "text": [
      "[2 0 1 0 2 0 1 0 1 0]\n"
     ]
    }
   ],
   "source": [
    "from sklearn.cluster import AgglomerativeClustering\n",
    "hc = AgglomerativeClustering(n_clusters=3, metric='euclidean', linkage='ward')\n",
    "y_hc = hc.fit_predict(df[['Annual Income','Spending Score']])\n",
    "print(y_hc)"
   ]
  },
  {
   "cell_type": "code",
   "execution_count": 14,
   "id": "0d849c9b",
   "metadata": {},
   "outputs": [
    {
     "name": "stdout",
     "output_type": "stream",
     "text": [
      "   CustomerID  Annual Income  Spending Score  Cluster\n",
      "0           1             15              39        2\n",
      "1           2             16              81        0\n",
      "2           3             17               6        1\n",
      "3           4             18              77        0\n",
      "4           5             19              40        2\n",
      "5           6             20              76        0\n",
      "6           7             21               6        1\n",
      "7           8             22              94        0\n",
      "8           9             23               3        1\n",
      "9          10             24              72        0\n"
     ]
    }
   ],
   "source": [
    "df['Cluster'] = y_hc\n",
    "print(df)"
   ]
  },
  {
   "cell_type": "code",
   "execution_count": 15,
   "id": "da6b4865",
   "metadata": {},
   "outputs": [
    {
     "name": "stdout",
     "output_type": "stream",
     "text": [
      "[2 0 1 0 2 0 1 0 1 0]\n"
     ]
    }
   ],
   "source": [
    "from sklearn.cluster import AgglomerativeClustering\n",
    "hc = AgglomerativeClustering(n_clusters=3, metric='euclidean', linkage='ward')\n",
    "y_hc = hc.fit_predict(df[['Annual Income','Spending Score']])\n",
    "print(y_hc)"
   ]
  },
  {
   "cell_type": "code",
   "execution_count": 16,
   "id": "60085025",
   "metadata": {},
   "outputs": [
    {
     "name": "stdout",
     "output_type": "stream",
     "text": [
      "[2 0 1 0 2 0 1 3 1 4]\n"
     ]
    }
   ],
   "source": [
    "#the optimal number of clusters from the dendrogram is 5\n",
    "from sklearn.cluster import AgglomerativeClustering\n",
    "hc = AgglomerativeClustering(n_clusters=5, metric='euclidean', linkage='ward')\n",
    "y_hc = hc.fit_predict(df[['Annual Income','Spending Score']])\n",
    "print(y_hc)"
   ]
  },
  {
   "cell_type": "code",
   "execution_count": 17,
   "id": "f1fe8a5e",
   "metadata": {},
   "outputs": [
    {
     "name": "stdout",
     "output_type": "stream",
     "text": [
      "   CustomerID  Annual Income  Spending Score  Cluster\n",
      "0           1             15              39        2\n",
      "1           2             16              81        0\n",
      "2           3             17               6        1\n",
      "3           4             18              77        0\n",
      "4           5             19              40        2\n",
      "5           6             20              76        0\n",
      "6           7             21               6        1\n",
      "7           8             22              94        3\n",
      "8           9             23               3        1\n",
      "9          10             24              72        4\n"
     ]
    }
   ],
   "source": [
    "#the final cluster assignments\n",
    "df['Cluster'] = y_hc\n",
    "print(df)"
   ]
  },
  {
   "cell_type": "code",
   "execution_count": 18,
   "id": "81c483bb",
   "metadata": {},
   "outputs": [
    {
     "name": "stdout",
     "output_type": "stream",
     "text": [
      "\n",
      "Cluster 2 customers:\n",
      "   CustomerID  Annual Income  Spending Score\n",
      "0           1             15              39\n",
      "4           5             19              40\n",
      "\n",
      "Cluster 0 customers:\n",
      "   CustomerID  Annual Income  Spending Score\n",
      "1           2             16              81\n",
      "3           4             18              77\n",
      "5           6             20              76\n",
      "\n",
      "Cluster 1 customers:\n",
      "   CustomerID  Annual Income  Spending Score\n",
      "2           3             17               6\n",
      "6           7             21               6\n",
      "8           9             23               3\n",
      "\n",
      "Cluster 3 customers:\n",
      "   CustomerID  Annual Income  Spending Score\n",
      "7           8             22              94\n",
      "\n",
      "Cluster 4 customers:\n",
      "   CustomerID  Annual Income  Spending Score\n",
      "9          10             24              72\n",
      "\n",
      "Cluster summary (mean values):\n",
      "         Annual Income  Spending Score\n",
      "Cluster                               \n",
      "0            18.000000            78.0\n",
      "1            20.333333             5.0\n",
      "2            17.000000            39.5\n",
      "3            22.000000            94.0\n",
      "4            24.000000            72.0\n"
     ]
    }
   ],
   "source": [
    "for c in df['Cluster'].unique():\n",
    "    group = df[df['Cluster'] == c]\n",
    "    print(f\"\\nCluster {c} customers:\")\n",
    "    print(group[['CustomerID','Annual Income','Spending Score']])\n",
    "\n",
    "# Show average values per cluster (centroids)\n",
    "print(\"\\nCluster summary (mean values):\")\n",
    "print(df.groupby('Cluster')[['Annual Income','Spending Score']].mean())"
   ]
  },
  {
   "cell_type": "code",
   "execution_count": null,
   "id": "d5cb99e5",
   "metadata": {},
   "outputs": [],
   "source": []
  }
 ],
 "metadata": {
  "kernelspec": {
   "display_name": "Python 3",
   "language": "python",
   "name": "python3"
  },
  "language_info": {
   "codemirror_mode": {
    "name": "ipython",
    "version": 3
   },
   "file_extension": ".py",
   "mimetype": "text/x-python",
   "name": "python",
   "nbconvert_exporter": "python",
   "pygments_lexer": "ipython3",
   "version": "3.13.7"
  }
 },
 "nbformat": 4,
 "nbformat_minor": 5
}
