{
 "cells": [
  {
   "cell_type": "code",
   "execution_count": null,
   "id": "a2669d14-80e9-41e4-852a-4fd1633b7b39",
   "metadata": {},
   "outputs": [],
   "source": [
    "### Simple ATM Simulation\n",
    "correct_pin = \"1234\"\n",
    "balance = 1000.0\n",
    "attempts = 0\n",
    "max_attempts = 3\n",
    "\n",
    "# PIN Verification\n",
    "while attempts < max_attempts:\n",
    "    entered_pin = input(\"Enter your PIN: \")\n",
    "    if entered_pin == correct_pin:\n",
    "        print(\"Access granted.\\n\")\n",
    "        \n",
    "        while True:\n",
    "            print(\"\\n--- ATM Menu ---\")\n",
    "            print(\"1. Check Balance\")\n",
    "            print(\"2. Deposit\")\n",
    "            print(\"3. Withdraw\")\n",
    "            print(\"4. Exit\")\n",
    "\n",
    "            choice = input(\"Select an option (1-4): \")\n",
    "\n",
    "            if choice == \"1\":\n",
    "                print(f\"Your current balance is ₹{balance:}\")\n",
    "            elif choice == \"2\":\n",
    "                amount = float(input(\"Enter amount to deposit: ₹\"))\n",
    "                balance += amount\n",
    "                print(f\"₹{amount:} deposited. New balance is ₹{balance:}\")\n",
    "            elif choice == \"3\":\n",
    "                amount = float(input(\"Enter amount to withdraw: ₹\"))\n",
    "                if amount <= balance:\n",
    "                    balance -= amount\n",
    "                    print(f\"₹{amount:} withdrawn. Remaining balance is ₹{balance:}\")\n",
    "                else:\n",
    "                    print(\"Insufficient funds.\")\n",
    "            elif choice == \"4\":\n",
    "                print(\"Exiting. Thank you!\")\n",
    "                break\n",
    "            else:\n",
    "                print(\"Invalid option. Try again.\")\n",
    "        break\n",
    "    else:\n",
    "        attempts += 1\n",
    "        print(f\"Incorrect PIN. {max_attempts - attempts} attempt(s) left.\")\n",
    "\n",
    "if attempts == max_attempts:\n",
    "    print(\"Too many incorrect attempts. Access denied.\")"
   ]
  },
  {
   "cell_type": "code",
   "execution_count": null,
   "id": "3a1d6932-cb6b-4667-b5c1-5265b8ce4455",
   "metadata": {},
   "outputs": [],
   "source": []
  }
 ],
 "metadata": {
  "kernelspec": {
   "display_name": "anaconda-2024.02-py310",
   "language": "python",
   "name": "conda-env-anaconda-2024.02-py310-py"
  },
  "language_info": {
   "codemirror_mode": {
    "name": "ipython",
    "version": 3
   },
   "file_extension": ".py",
   "mimetype": "text/x-python",
   "name": "python",
   "nbconvert_exporter": "python",
   "pygments_lexer": "ipython3",
   "version": "3.10.14"
  }
 },
 "nbformat": 4,
 "nbformat_minor": 5
}
