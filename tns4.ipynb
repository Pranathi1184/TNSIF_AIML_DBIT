{
 "cells": [
  {
   "cell_type": "code",
   "execution_count": 5,
   "id": "9c6079ba-48f8-4066-8142-3de4c7891274",
   "metadata": {},
   "outputs": [
    {
     "name": "stdout",
     "output_type": "stream",
     "text": [
      "{'harry': 9887566488, 'Sean': 7894561231, 'thomas': 98745632124}\n"
     ]
    },
    {
     "name": "stdin",
     "output_type": "stream",
     "text": [
      "Enter a name: sean\n"
     ]
    },
    {
     "name": "stdout",
     "output_type": "stream",
     "text": [
      "Name not found\n"
     ]
    }
   ],
   "source": [
    "phonebook ={\"harry\":9887566488, \"Sean\":7894561231, \"thomas\":98745632124}\n",
    "print(phonebook)\n",
    "name= input(\"Enter a name:\")\n",
    "if name in phonebook:\n",
    "    num=int(input(\"enter the number:\"))\n",
    "    phonebook[name]=num\n",
    "    print(\"Success\")\n",
    "else:\n",
    "    print(\"Name not found\")"
   ]
  },
  {
   "cell_type": "code",
   "execution_count": 7,
   "id": "4d4f64fe-511b-4d02-b042-cffbb0d37043",
   "metadata": {},
   "outputs": [
    {
     "name": "stdout",
     "output_type": "stream",
     "text": [
      "{'harry': 9887566488, 'Sean': 7894561231, 'thomas': 98745632124}\n",
      "{'harry': 9887566488, 'Sean': 7894561231, 'thomas': 98745632124, 'Radhika': 454634355}\n",
      "{'harry': 9887566488, 'Sean': 7894561231, 'thomas': 98745632124, 'Radhika': 454634355, 'Amir': 64455}\n"
     ]
    }
   ],
   "source": [
    "phonebook ={\"harry\": 9887566488, \"Sean\": 7894561231, \"thomas\": 98745632124}\n",
    "print(phonebook)\n",
    "phonebook[\"Radhika\"]=454634355\n",
    "print(phonebook)\n",
    "phonebook.update({\"Amir\": 64455})\n",
    "print(phonebook)"
   ]
  },
  {
   "cell_type": "code",
   "execution_count": 2,
   "id": "d5a44985-006a-4952-869c-517b2b6a1b74",
   "metadata": {},
   "outputs": [
    {
     "name": "stdout",
     "output_type": "stream",
     "text": [
      "{'harry': 9887566488, 'Sean': 7894561231, 'thomas': 98745632124}\n"
     ]
    },
    {
     "name": "stdin",
     "output_type": "stream",
     "text": [
      "Enter a name: sean\n"
     ]
    },
    {
     "name": "stdout",
     "output_type": "stream",
     "text": [
      "sean  was not found\n",
      "{}\n"
     ]
    }
   ],
   "source": [
    "phonebook ={\"harry\":9887566488, \"Sean\":7894561231, \"thomas\":98745632124}\n",
    "print(phonebook)\n",
    "name= input(\"Enter a name:\")\n",
    "if name in phonebook:\n",
    "    del phonebook[name]\n",
    "    print(\"Deleted Successfully\")\n",
    "else:\n",
    "    print(name, \" was not found\")\n",
    "\n",
    "#del phonebook\n",
    "phonebook.clear()\n",
    "print(phonebook)"
   ]
  },
  {
   "cell_type": "markdown",
   "id": "dd5a93bb-c612-4afb-ad89-37d819c0ed5e",
   "metadata": {},
   "source": [
    "len(dict)\n",
    "str(dict)\n",
    "type(variable)\n",
    "dict.clear()\n",
    "dict.keys()\n",
    "dict.update(dict2)\n",
    "dict.values()\n",
    "important** difference between clear and del"
   ]
  },
  {
   "cell_type": "code",
   "execution_count": 3,
   "id": "987d8d54-9992-40c1-8660-5c7d5aac9af4",
   "metadata": {},
   "outputs": [
    {
     "name": "stdin",
     "output_type": "stream",
     "text": [
      "Enter the name of the user: shama\n"
     ]
    },
    {
     "name": "stdout",
     "output_type": "stream",
     "text": [
      "User not founnd\n",
      "{'Ram': 9864543546, 'Shyam': 9876543210, 'Sita': 9988776655, 'Mohan': 1234567890}\n"
     ]
    },
    {
     "name": "stdin",
     "output_type": "stream",
     "text": [
      "Enter the name of the user to delete: ram\n"
     ]
    },
    {
     "name": "stdout",
     "output_type": "stream",
     "text": [
      "{}\n",
      "dict_keys([])\n",
      "dict_values([])\n"
     ]
    }
   ],
   "source": [
    "phonebook = {\"Ram\": 9864543546, \"Shyam\": 9876543210, \"Sita\": 9988776655}\n",
    "user_name = input(\"Enter the name of the user:\")\n",
    "if user_name in phonebook:\n",
    "    new_number = int(input(\"Enter the new phone number: \"))\n",
    "    phonebook[user_name] = new_number\n",
    "    print(\"Phone number is updated successfully.\")\n",
    "else:\n",
    "    print(\"User not founnd\")\n",
    "phonebook[\"Mohan\"] = 1234567890\n",
    "print(phonebook)\n",
    "user_name1 = input(\"Enter the name of the user to delete:\")\n",
    "if user_name1 in phonebook:\n",
    "    del phonebook[user_name1]\n",
    "    print(\"User deleted successfully.\")\n",
    "phonebook.clear()   # Used to clear the dictionary\n",
    "print(phonebook)\n",
    "print(phonebook.keys())\n",
    "print(phonebook.values())"
   ]
  },
  {
   "cell_type": "code",
   "execution_count": null,
   "id": "3b7e14ee-7143-4ebc-8c6a-9b66dff7720a",
   "metadata": {},
   "outputs": [],
   "source": []
  }
 ],
 "metadata": {
  "kernelspec": {
   "display_name": "anaconda-2024.02-py310",
   "language": "python",
   "name": "conda-env-anaconda-2024.02-py310-py"
  },
  "language_info": {
   "codemirror_mode": {
    "name": "ipython",
    "version": 3
   },
   "file_extension": ".py",
   "mimetype": "text/x-python",
   "name": "python",
   "nbconvert_exporter": "python",
   "pygments_lexer": "ipython3",
   "version": "3.10.14"
  }
 },
 "nbformat": 4,
 "nbformat_minor": 5
}
